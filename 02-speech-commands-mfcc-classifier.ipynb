{
 "cells": [
  {
   "cell_type": "code",
   "execution_count": 6,
   "metadata": {},
   "outputs": [],
   "source": [
    "from os import listdir\n",
    "from os.path import isdir, join\n",
    "from tensorflow.keras import layers, models\n",
    "import numpy as np"
   ]
  },
  {
   "cell_type": "code",
   "execution_count": 7,
   "metadata": {},
   "outputs": [
    {
     "name": "stdout",
     "output_type": "stream",
     "text": [
      "['backward', 'bed', 'bird', 'cat', 'dog', 'down', 'eight', 'five', 'follow', 'forward', 'four', 'go', 'happy', 'house', 'learn', 'left', 'marvin', 'nine', 'no', 'off', 'on', 'one', 'right', 'seven', 'sheila', 'six', 'stop', 'three', 'tree', 'two', 'up', 'visual', 'wow', 'yes', 'zero']\n"
     ]
    }
   ],
   "source": [
    "# Create list of all targets (minus background noise)\n",
    "dataset_path = '.\\\\data_speech_commands_v0.02'\n",
    "all_targets = all_targets = [name for name in listdir(dataset_path) if isdir(join(dataset_path, name))]\n",
    "all_targets.remove('_background_noise_')\n",
    "print(all_targets)"
   ]
  },
  {
   "cell_type": "code",
   "execution_count": 8,
   "metadata": {},
   "outputs": [],
   "source": [
    "# Settings\n",
    "feature_sets_path = '.\\\\'\n",
    "feature_sets_filename = 'all_targets_mfcc_sets.npz'\n",
    "model_filename = 'wake_word_stop_model.h5'\n",
    "wake_word = 'stop'"
   ]
  },
  {
   "cell_type": "code",
   "execution_count": 9,
   "metadata": {},
   "outputs": [
    {
     "name": "stdout",
     "output_type": "stream",
     "text": [
      "['x_train', 'y_train', 'x_val', 'y_val', 'x_test', 'y_test']\n"
     ]
    }
   ],
   "source": [
    "# Load feature sets\n",
    "feature_sets = np.load(join(feature_sets_path, feature_sets_filename))\n",
    "print(feature_sets.files)"
   ]
  },
  {
   "cell_type": "code",
   "execution_count": 10,
   "metadata": {},
   "outputs": [],
   "source": [
    "# Assign feature sets\n",
    "x_train = feature_sets['x_train']\n",
    "y_train = feature_sets['y_train']\n",
    "x_val = feature_sets['x_val']\n",
    "y_val = feature_sets['y_val']\n",
    "x_test = feature_sets['x_test']\n",
    "y_test = feature_sets['y_test']"
   ]
  },
  {
   "cell_type": "code",
   "execution_count": 11,
   "metadata": {},
   "outputs": [
    {
     "name": "stdout",
     "output_type": "stream",
     "text": [
      "(77553, 16, 16)\n",
      "(9658, 16, 16)\n",
      "(9645, 16, 16)\n"
     ]
    }
   ],
   "source": [
    "# Look at tensor dimensions\n",
    "print(x_train.shape)\n",
    "print(x_val.shape)\n",
    "print(x_test.shape)"
   ]
  },
  {
   "cell_type": "code",
   "execution_count": 12,
   "metadata": {},
   "outputs": [
    {
     "name": "stdout",
     "output_type": "stream",
     "text": [
      "[21. 25. 22. ... 18. 23. 19.]\n"
     ]
    }
   ],
   "source": [
    "# Peek at labels\n",
    "print(y_val)"
   ]
  },
  {
   "cell_type": "code",
   "execution_count": 13,
   "metadata": {},
   "outputs": [],
   "source": [
    "# Convert ground truth arrays to one wake word (1) and 'other' (0)\n",
    "wake_word_index = all_targets.index(wake_word)\n",
    "y_train = np.equal(y_train, wake_word_index).astype('float64')\n",
    "y_val = np.equal(y_val, wake_word_index).astype('float64')\n",
    "y_test = np.equal(y_test, wake_word_index).astype('float64')"
   ]
  },
  {
   "cell_type": "code",
   "execution_count": 14,
   "metadata": {},
   "outputs": [
    {
     "name": "stdout",
     "output_type": "stream",
     "text": [
      "[0. 0. 0. ... 0. 0. 0.]\n"
     ]
    }
   ],
   "source": [
    "# Peek at labels after conversion\n",
    "print(y_val)"
   ]
  },
  {
   "cell_type": "code",
   "execution_count": 15,
   "metadata": {},
   "outputs": [
    {
     "name": "stdout",
     "output_type": "stream",
     "text": [
      "0.04069165458687099\n",
      "0.959308345413129\n"
     ]
    }
   ],
   "source": [
    "# What percentage of 'stop' appear in validation labels\n",
    "print(sum(y_val) / len(y_val))\n",
    "print(1 - sum(y_val) / len(y_val))"
   ]
  },
  {
   "cell_type": "code",
   "execution_count": 16,
   "metadata": {},
   "outputs": [
    {
     "name": "stdout",
     "output_type": "stream",
     "text": [
      "(77553, 16, 16)\n"
     ]
    }
   ],
   "source": [
    "# View the dimensions of our input data\n",
    "print(x_train.shape)"
   ]
  },
  {
   "cell_type": "code",
   "execution_count": 17,
   "metadata": {},
   "outputs": [
    {
     "name": "stdout",
     "output_type": "stream",
     "text": [
      "(77553, 16, 16, 1)\n",
      "(9658, 16, 16, 1)\n",
      "(9645, 16, 16, 1)\n"
     ]
    }
   ],
   "source": [
    "# CNN for TF expects (batch, height, width, channels)\n",
    "# So we reshape the input tensors with a \"color\" channel of 1\n",
    "x_train = x_train.reshape(x_train.shape[0], \n",
    "                          x_train.shape[1], \n",
    "                          x_train.shape[2], \n",
    "                          1)\n",
    "x_val = x_val.reshape(x_val.shape[0], \n",
    "                      x_val.shape[1], \n",
    "                      x_val.shape[2], \n",
    "                      1)\n",
    "x_test = x_test.reshape(x_test.shape[0], \n",
    "                        x_test.shape[1], \n",
    "                        x_test.shape[2], \n",
    "                        1)\n",
    "print(x_train.shape)\n",
    "print(x_val.shape)\n",
    "print(x_test.shape)"
   ]
  },
  {
   "cell_type": "code",
   "execution_count": 18,
   "metadata": {},
   "outputs": [
    {
     "name": "stdout",
     "output_type": "stream",
     "text": [
      "(16, 16, 1)\n"
     ]
    }
   ],
   "source": [
    "# Input shape for CNN is size of MFCC of 1 sample\n",
    "sample_shape = x_test.shape[1:]\n",
    "print(sample_shape)"
   ]
  },
  {
   "cell_type": "code",
   "execution_count": 19,
   "metadata": {},
   "outputs": [],
   "source": [
    "# Build model\n",
    "# Based on: https://www.geeksforgeeks.org/python-image-classification-using-keras/\n",
    "model = models.Sequential()\n",
    "model.add(layers.Conv2D(32, \n",
    "                        (2, 2), \n",
    "                        activation='relu',\n",
    "                        input_shape=sample_shape))\n",
    "model.add(layers.MaxPooling2D(pool_size=(2, 2)))\n",
    "\n",
    "model.add(layers.Conv2D(32, (2, 2), activation='relu'))\n",
    "model.add(layers.MaxPooling2D(pool_size=(2, 2)))\n",
    "\n",
    "model.add(layers.Conv2D(64, (2, 2), activation='relu'))\n",
    "model.add(layers.MaxPooling2D(pool_size=(2, 2)))\n",
    "\n",
    "# Classifier\n",
    "model.add(layers.Flatten())\n",
    "model.add(layers.Dense(64, activation='relu'))\n",
    "model.add(layers.Dropout(0.5))\n",
    "model.add(layers.Dense(1, activation='sigmoid'))"
   ]
  },
  {
   "cell_type": "code",
   "execution_count": 20,
   "metadata": {},
   "outputs": [
    {
     "name": "stdout",
     "output_type": "stream",
     "text": [
      "Model: \"sequential\"\n",
      "_________________________________________________________________\n",
      " Layer (type)                Output Shape              Param #   \n",
      "=================================================================\n",
      " conv2d (Conv2D)             (None, 15, 15, 32)        160       \n",
      "                                                                 \n",
      " max_pooling2d (MaxPooling2D  (None, 7, 7, 32)         0         \n",
      " )                                                               \n",
      "                                                                 \n",
      " conv2d_1 (Conv2D)           (None, 6, 6, 32)          4128      \n",
      "                                                                 \n",
      " max_pooling2d_1 (MaxPooling  (None, 3, 3, 32)         0         \n",
      " 2D)                                                             \n",
      "                                                                 \n",
      " conv2d_2 (Conv2D)           (None, 2, 2, 64)          8256      \n",
      "                                                                 \n",
      " max_pooling2d_2 (MaxPooling  (None, 1, 1, 64)         0         \n",
      " 2D)                                                             \n",
      "                                                                 \n",
      " flatten (Flatten)           (None, 64)                0         \n",
      "                                                                 \n",
      " dense (Dense)               (None, 64)                4160      \n",
      "                                                                 \n",
      " dropout (Dropout)           (None, 64)                0         \n",
      "                                                                 \n",
      " dense_1 (Dense)             (None, 1)                 65        \n",
      "                                                                 \n",
      "=================================================================\n",
      "Total params: 16,769\n",
      "Trainable params: 16,769\n",
      "Non-trainable params: 0\n",
      "_________________________________________________________________\n"
     ]
    }
   ],
   "source": [
    "# Display model\n",
    "model.summary()"
   ]
  },
  {
   "cell_type": "code",
   "execution_count": 21,
   "metadata": {},
   "outputs": [],
   "source": [
    "# Add training parameters to model\n",
    "model.compile(loss='binary_crossentropy', \n",
    "              optimizer='rmsprop', \n",
    "              metrics=['acc'])"
   ]
  },
  {
   "cell_type": "code",
   "execution_count": 22,
   "metadata": {},
   "outputs": [
    {
     "name": "stdout",
     "output_type": "stream",
     "text": [
      "Epoch 1/30\n",
      "776/776 [==============================] - 6s 6ms/step - loss: 0.1163 - acc: 0.9657 - val_loss: 0.1153 - val_acc: 0.9666\n",
      "Epoch 2/30\n",
      "776/776 [==============================] - 6s 8ms/step - loss: 0.0734 - acc: 0.9771 - val_loss: 0.0615 - val_acc: 0.9793\n",
      "Epoch 3/30\n",
      "776/776 [==============================] - 5s 7ms/step - loss: 0.0632 - acc: 0.9804 - val_loss: 0.0684 - val_acc: 0.9795\n",
      "Epoch 4/30\n",
      "776/776 [==============================] - 5s 7ms/step - loss: 0.0572 - acc: 0.9824 - val_loss: 0.0569 - val_acc: 0.9817\n",
      "Epoch 5/30\n",
      "776/776 [==============================] - 5s 6ms/step - loss: 0.0530 - acc: 0.9836 - val_loss: 0.0711 - val_acc: 0.9813\n",
      "Epoch 6/30\n",
      "776/776 [==============================] - 5s 6ms/step - loss: 0.0523 - acc: 0.9849 - val_loss: 0.0578 - val_acc: 0.9837\n",
      "Epoch 7/30\n",
      "776/776 [==============================] - 5s 7ms/step - loss: 0.0507 - acc: 0.9852 - val_loss: 0.0528 - val_acc: 0.9845\n",
      "Epoch 8/30\n",
      "776/776 [==============================] - 5s 6ms/step - loss: 0.0514 - acc: 0.9853 - val_loss: 0.0577 - val_acc: 0.9831\n",
      "Epoch 9/30\n",
      "776/776 [==============================] - 6s 7ms/step - loss: 0.0521 - acc: 0.9852 - val_loss: 0.0590 - val_acc: 0.9826\n",
      "Epoch 10/30\n",
      "776/776 [==============================] - 5s 7ms/step - loss: 0.0542 - acc: 0.9847 - val_loss: 0.0554 - val_acc: 0.9845\n",
      "Epoch 11/30\n",
      "776/776 [==============================] - 5s 7ms/step - loss: 0.0554 - acc: 0.9842 - val_loss: 0.0733 - val_acc: 0.9799\n",
      "Epoch 12/30\n",
      "776/776 [==============================] - 5s 7ms/step - loss: 0.0544 - acc: 0.9847 - val_loss: 0.0644 - val_acc: 0.9829\n",
      "Epoch 13/30\n",
      "776/776 [==============================] - 5s 7ms/step - loss: 0.0569 - acc: 0.9839 - val_loss: 0.1032 - val_acc: 0.9728\n",
      "Epoch 14/30\n",
      "776/776 [==============================] - 5s 7ms/step - loss: 0.0567 - acc: 0.9834 - val_loss: 0.0623 - val_acc: 0.9811\n",
      "Epoch 15/30\n",
      "776/776 [==============================] - 5s 7ms/step - loss: 0.0594 - acc: 0.9834 - val_loss: 0.0646 - val_acc: 0.9832\n",
      "Epoch 16/30\n",
      "776/776 [==============================] - 5s 7ms/step - loss: 0.0585 - acc: 0.9839 - val_loss: 0.0844 - val_acc: 0.9808\n",
      "Epoch 17/30\n",
      "776/776 [==============================] - 5s 7ms/step - loss: 0.0574 - acc: 0.9836 - val_loss: 0.0965 - val_acc: 0.9765\n",
      "Epoch 18/30\n",
      "776/776 [==============================] - 5s 7ms/step - loss: 0.0603 - acc: 0.9835 - val_loss: 0.0915 - val_acc: 0.9794\n",
      "Epoch 19/30\n",
      "776/776 [==============================] - 5s 6ms/step - loss: 0.0613 - acc: 0.9831 - val_loss: 0.0606 - val_acc: 0.9827\n",
      "Epoch 20/30\n",
      "776/776 [==============================] - 5s 6ms/step - loss: 0.0583 - acc: 0.9838 - val_loss: 0.0664 - val_acc: 0.9814\n",
      "Epoch 21/30\n",
      "776/776 [==============================] - 5s 7ms/step - loss: 0.0603 - acc: 0.9834 - val_loss: 0.0678 - val_acc: 0.9832\n",
      "Epoch 22/30\n",
      "776/776 [==============================] - 5s 7ms/step - loss: 0.0625 - acc: 0.9836 - val_loss: 0.0791 - val_acc: 0.9823\n",
      "Epoch 23/30\n",
      "776/776 [==============================] - 6s 7ms/step - loss: 0.0618 - acc: 0.9835 - val_loss: 0.0720 - val_acc: 0.9799\n",
      "Epoch 24/30\n",
      "776/776 [==============================] - 5s 7ms/step - loss: 0.0628 - acc: 0.9828 - val_loss: 0.0876 - val_acc: 0.9782\n",
      "Epoch 25/30\n",
      "776/776 [==============================] - 5s 7ms/step - loss: 0.0591 - acc: 0.9831 - val_loss: 0.0689 - val_acc: 0.9823\n",
      "Epoch 26/30\n",
      "776/776 [==============================] - 5s 7ms/step - loss: 0.0612 - acc: 0.9832 - val_loss: 0.0842 - val_acc: 0.9773\n",
      "Epoch 27/30\n",
      "776/776 [==============================] - 6s 7ms/step - loss: 0.0597 - acc: 0.9836 - val_loss: 0.1612 - val_acc: 0.9682\n",
      "Epoch 28/30\n",
      "776/776 [==============================] - 5s 7ms/step - loss: 0.0629 - acc: 0.9827 - val_loss: 0.0834 - val_acc: 0.9833\n",
      "Epoch 29/30\n",
      "776/776 [==============================] - 5s 7ms/step - loss: 0.0665 - acc: 0.9827 - val_loss: 0.0738 - val_acc: 0.9813\n",
      "Epoch 30/30\n",
      "776/776 [==============================] - 5s 7ms/step - loss: 0.0616 - acc: 0.9829 - val_loss: 0.1154 - val_acc: 0.9755\n"
     ]
    }
   ],
   "source": [
    "# Train\n",
    "history = model.fit(x_train, \n",
    "                    y_train, \n",
    "                    epochs=30, \n",
    "                    batch_size=100, \n",
    "                    validation_data=(x_val, y_val))"
   ]
  },
  {
   "cell_type": "code",
   "execution_count": 23,
   "metadata": {},
   "outputs": [
    {
     "data": {
      "image/png": "[encoded data removed]",
      "text/plain": [
       "<Figure size 640x480 with 1 Axes>"
      ]
     },
     "metadata": {},
     "output_type": "display_data"
    },
    {
     "data": {
      "image/png": "[encoded data removed]",
      "text/plain": [
       "<Figure size 640x480 with 1 Axes>"
      ]
     },
     "metadata": {},
     "output_type": "display_data"
    }
   ],
   "source": [
    "# Plot results\n",
    "import matplotlib.pyplot as plt\n",
    "\n",
    "acc = history.history['acc']\n",
    "val_acc = history.history['val_acc']\n",
    "loss = history.history['loss']\n",
    "val_loss = history.history['val_loss']\n",
    "\n",
    "epochs = range(1, len(acc) + 1)\n",
    "\n",
    "plt.plot(epochs, acc, 'bo', label='Training acc')\n",
    "plt.plot(epochs, val_acc, 'b', label='Validation acc')\n",
    "plt.title('Training and validation accuracy')\n",
    "plt.legend()\n",
    "\n",
    "plt.figure()\n",
    "\n",
    "plt.plot(epochs, loss, 'bo', label='Training loss')\n",
    "plt.plot(epochs, val_loss, 'b', label='Validation loss')\n",
    "plt.title('Training and validation loss')\n",
    "plt.legend()\n",
    "\n",
    "plt.show()"
   ]
  },
  {
   "cell_type": "code",
   "execution_count": 24,
   "metadata": {},
   "outputs": [],
   "source": [
    "# Save the model as a file\n",
    "models.save_model(model, model_filename)"
   ]
  },
  {
   "cell_type": "code",
   "execution_count": 25,
   "metadata": {},
   "outputs": [
    {
     "name": "stdout",
     "output_type": "stream",
     "text": [
      "14\n",
      "45\n",
      "51\n",
      "68\n",
      "89\n",
      "110\n",
      "114\n",
      "237\n",
      "312\n",
      "342\n",
      "349\n",
      "357\n",
      "360\n",
      "375\n",
      "381\n",
      "422\n",
      "443\n",
      "458\n",
      "468\n",
      "494\n",
      "534\n",
      "653\n",
      "657\n",
      "662\n",
      "673\n",
      "681\n",
      "683\n",
      "697\n",
      "728\n",
      "788\n",
      "893\n",
      "921\n",
      "923\n",
      "931\n",
      "938\n",
      "947\n",
      "950\n",
      "1018\n",
      "1024\n",
      "1026\n",
      "1039\n",
      "1064\n",
      "1172\n",
      "1175\n",
      "1177\n",
      "1217\n",
      "1251\n",
      "1264\n",
      "1339\n",
      "1342\n",
      "1424\n",
      "1445\n",
      "1564\n",
      "1591\n",
      "1618\n",
      "1626\n",
      "1628\n",
      "1643\n",
      "1654\n",
      "1713\n",
      "1715\n",
      "1730\n",
      "1744\n",
      "1766\n",
      "1800\n",
      "1882\n",
      "1908\n",
      "1969\n",
      "1974\n",
      "2010\n",
      "2029\n",
      "2115\n",
      "2138\n",
      "2163\n",
      "2195\n",
      "2199\n",
      "2212\n",
      "2231\n",
      "2243\n",
      "2281\n",
      "2342\n",
      "2370\n",
      "2375\n",
      "2380\n",
      "2390\n",
      "2426\n",
      "2448\n",
      "2485\n",
      "2510\n",
      "2562\n",
      "2579\n",
      "2651\n",
      "2652\n",
      "2657\n",
      "2669\n",
      "2706\n",
      "2738\n",
      "2744\n",
      "2785\n",
      "2830\n",
      "2834\n",
      "2840\n",
      "2942\n",
      "2982\n",
      "2993\n",
      "3024\n",
      "3060\n",
      "3137\n",
      "3174\n",
      "3210\n",
      "3211\n",
      "3273\n",
      "3279\n",
      "3307\n",
      "3309\n",
      "3315\n",
      "3374\n",
      "3383\n",
      "3404\n",
      "3427\n",
      "3455\n",
      "3469\n",
      "3519\n",
      "3541\n",
      "3577\n",
      "3604\n",
      "3636\n",
      "3668\n",
      "3688\n",
      "3721\n",
      "3733\n",
      "3747\n",
      "3795\n",
      "3797\n",
      "3798\n",
      "3807\n",
      "3842\n",
      "3868\n",
      "3943\n",
      "3984\n",
      "4048\n",
      "4069\n",
      "4129\n",
      "4152\n",
      "4207\n",
      "4222\n",
      "4236\n",
      "4245\n",
      "4257\n",
      "4269\n",
      "4316\n",
      "4400\n",
      "4415\n",
      "4460\n",
      "4465\n",
      "4473\n",
      "4518\n",
      "4568\n",
      "4617\n",
      "4635\n",
      "4658\n",
      "4666\n",
      "4683\n",
      "4800\n",
      "4802\n",
      "4817\n",
      "4837\n",
      "4848\n",
      "4880\n",
      "4964\n",
      "4985\n",
      "4991\n",
      "5045\n",
      "5049\n",
      "5101\n",
      "5132\n",
      "5133\n",
      "5145\n",
      "5147\n",
      "5248\n",
      "5269\n",
      "5275\n",
      "5302\n",
      "5349\n",
      "5354\n",
      "5391\n",
      "5395\n",
      "5417\n",
      "5454\n",
      "5465\n",
      "5496\n",
      "5514\n",
      "5532\n",
      "5566\n",
      "5581\n",
      "5588\n",
      "5591\n",
      "5630\n",
      "5658\n",
      "5664\n",
      "5669\n",
      "5720\n",
      "5746\n",
      "5766\n",
      "5798\n",
      "5812\n",
      "5819\n",
      "5821\n",
      "5830\n",
      "5851\n",
      "5856\n",
      "5864\n",
      "5904\n",
      "5906\n",
      "5926\n",
      "5988\n",
      "6003\n",
      "6100\n",
      "6104\n",
      "6145\n",
      "6155\n",
      "6166\n",
      "6177\n",
      "6182\n",
      "6199\n",
      "6217\n",
      "6224\n",
      "6229\n",
      "6247\n",
      "6248\n",
      "6258\n",
      "6321\n",
      "6326\n",
      "6381\n",
      "6408\n",
      "6413\n",
      "6414\n",
      "6420\n",
      "6430\n",
      "6468\n",
      "6502\n",
      "6505\n",
      "6595\n",
      "6668\n",
      "6701\n",
      "6724\n",
      "6762\n",
      "6804\n",
      "6805\n",
      "6815\n",
      "6878\n",
      "6899\n",
      "6956\n",
      "7034\n",
      "7041\n",
      "7062\n",
      "7210\n",
      "7245\n",
      "7278\n",
      "7315\n",
      "7344\n",
      "7369\n",
      "7388\n",
      "7409\n",
      "7421\n",
      "7433\n",
      "7437\n",
      "7439\n",
      "7444\n",
      "7517\n",
      "7537\n",
      "7574\n",
      "7668\n",
      "7698\n",
      "7703\n",
      "7831\n",
      "7842\n",
      "7869\n",
      "7874\n",
      "7919\n",
      "7923\n",
      "7954\n",
      "7957\n",
      "8018\n",
      "8027\n",
      "8032\n",
      "8077\n",
      "8079\n",
      "8088\n",
      "8135\n",
      "8139\n",
      "8164\n",
      "8221\n",
      "8319\n",
      "8328\n",
      "8332\n",
      "8343\n",
      "8363\n",
      "8415\n",
      "8481\n",
      "8488\n",
      "8490\n",
      "8502\n",
      "8519\n",
      "8545\n",
      "8593\n",
      "8603\n",
      "8606\n",
      "8644\n",
      "8651\n",
      "8652\n",
      "8725\n",
      "8726\n",
      "8779\n",
      "8830\n",
      "8895\n",
      "8897\n",
      "8928\n",
      "8949\n",
      "8952\n",
      "8982\n",
      "8998\n",
      "9004\n",
      "9028\n",
      "9031\n",
      "9049\n",
      "9050\n",
      "9058\n",
      "9162\n",
      "9189\n",
      "9192\n",
      "9221\n",
      "9289\n",
      "9360\n",
      "9396\n",
      "9402\n",
      "9403\n",
      "9425\n",
      "9428\n",
      "9459\n",
      "9488\n",
      "9494\n",
      "9527\n",
      "9537\n",
      "9553\n",
      "9568\n",
      "9595\n"
     ]
    }
   ],
   "source": [
    "# See which are 'stop'\n",
    "for idx, y in enumerate(y_test):\n",
    "    if y == 1:\n",
    "        print(idx)"
   ]
  },
  {
   "cell_type": "code",
   "execution_count": 26,
   "metadata": {},
   "outputs": [
    {
     "name": "stdout",
     "output_type": "stream",
     "text": [
      "1/1 [==============================] - 0s 94ms/step\n",
      "Answer: 0.0  Prediction: [[2.3452426e-14]]\n",
      "1/1 [==============================] - 0s 27ms/step\n",
      "Answer: 0.0  Prediction: [[0.00016795]]\n",
      "1/1 [==============================] - 0s 16ms/step\n",
      "Answer: 0.0  Prediction: [[3.2811628e-23]]\n",
      "1/1 [==============================] - 0s 18ms/step\n",
      "Answer: 0.0  Prediction: [[0.00080078]]\n",
      "1/1 [==============================] - 0s 27ms/step\n",
      "Answer: 0.0  Prediction: [[0.06490036]]\n",
      "1/1 [==============================] - 0s 18ms/step\n",
      "Answer: 0.0  Prediction: [[0.0007833]]\n",
      "1/1 [==============================] - 0s 14ms/step\n",
      "Answer: 0.0  Prediction: [[0.00174119]]\n",
      "1/1 [==============================] - 0s 32ms/step\n",
      "Answer: 0.0  Prediction: [[0.00018378]]\n",
      "1/1 [==============================] - 0s 18ms/step\n",
      "Answer: 0.0  Prediction: [[7.888526e-06]]\n",
      "1/1 [==============================] - 0s 18ms/step\n",
      "Answer: 0.0  Prediction: [[1.4581866e-07]]\n"
     ]
    }
   ],
   "source": [
    "# TEST: Load model and run it against test set\n",
    "model = models.load_model(model_filename)\n",
    "for i in range(100, 110):\n",
    "    print('Answer:', y_test[i], ' Prediction:', model.predict(np.expand_dims(x_test[i], 0)))"
   ]
  },
  {
   "cell_type": "code",
   "execution_count": 27,
   "metadata": {},
   "outputs": [
    {
     "name": "stdout",
     "output_type": "stream",
     "text": [
      "302/302 [==============================] - 1s 2ms/step - loss: 0.1035 - acc: 0.9762\n"
     ]
    },
    {
     "data": {
      "text/plain": [
       "[0.10346902161836624, 0.9761534333229065]"
      ]
     },
     "execution_count": 27,
     "metadata": {},
     "output_type": "execute_result"
    }
   ],
   "source": [
    "# Evaluate model with test set\n",
    "model.evaluate(x=x_test, y=y_test)"
   ]
  },
  {
   "cell_type": "code",
   "execution_count": null,
   "metadata": {},
   "outputs": [],
   "source": []
  }
 ],
 "metadata": {
  "kernelspec": {
   "display_name": "Python 3 (ipykernel)",
   "language": "python",
   "name": "python3"
  },
  "language_info": {
   "codemirror_mode": {
    "name": "ipython",
    "version": 3
   },
   "file_extension": ".py",
   "mimetype": "text/x-python",
   "name": "python",
   "nbconvert_exporter": "python",
   "pygments_lexer": "ipython3",
   "version": "3.10.13"
  }
 },
 "nbformat": 4,
 "nbformat_minor": 4
}
