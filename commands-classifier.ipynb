{
 "cells": [
  {
   "cell_type": "code",
   "execution_count": 1,
   "metadata": {},
   "outputs": [],
   "source": [
    "from os import listdir\n",
    "from os.path import isdir, join\n",
    "import tensorflow as tf\n",
    "from tensorflow.keras import layers, models\n",
    "import numpy as np"
   ]
  },
  {
   "cell_type": "code",
   "execution_count": 2,
   "metadata": {},
   "outputs": [
    {
     "name": "stdout",
     "output_type": "stream",
     "text": [
      "['backward', 'bed', 'bird', 'cat', 'dog', 'down', 'eight', 'five', 'follow', 'forward', 'four', 'go', 'happy', 'house', 'learn', 'left', 'marvin', 'nine', 'no', 'off', 'on', 'one', 'right', 'seven', 'sheila', 'six', 'stop', 'three', 'tree', 'two', 'up', 'visual', 'wow', 'yes', 'zero']\n"
     ]
    },
    {
     "data": {
      "text/plain": [
       "(None, 35)"
      ]
     },
     "execution_count": 2,
     "metadata": {},
     "output_type": "execute_result"
    }
   ],
   "source": [
    "# Create list of all targets (minus background noise)\n",
    "dataset_path = '.\\\\data_speech_commands_v0.02'\n",
    "all_targets = all_targets = [name for name in listdir(dataset_path) if isdir(join(dataset_path, name))]\n",
    "all_targets.remove('_background_noise_')\n",
    "print(all_targets), len(all_targets)"
   ]
  },
  {
   "cell_type": "code",
   "execution_count": 3,
   "metadata": {},
   "outputs": [],
   "source": [
    "# Settings\n",
    "feature_sets_path = '.\\\\'\n",
    "feature_sets_filename = 'all_targets_mfcc_sets.npz'\n",
    "model_filename = 'commands_model.h5'"
   ]
  },
  {
   "cell_type": "code",
   "execution_count": 4,
   "metadata": {},
   "outputs": [
    {
     "name": "stdout",
     "output_type": "stream",
     "text": [
      "['x_train', 'y_train', 'x_val', 'y_val', 'x_test', 'y_test']\n"
     ]
    }
   ],
   "source": [
    "# Load feature sets\n",
    "feature_sets = np.load(join(feature_sets_path, feature_sets_filename))\n",
    "print(feature_sets.files)"
   ]
  },
  {
   "cell_type": "code",
   "execution_count": 5,
   "metadata": {},
   "outputs": [],
   "source": [
    "# Assign feature sets\n",
    "x_train = feature_sets['x_train']\n",
    "y_train = feature_sets['y_train']\n",
    "x_val = feature_sets['x_val']\n",
    "y_val = feature_sets['y_val']\n",
    "x_test = feature_sets['x_test']\n",
    "y_test = feature_sets['y_test']"
   ]
  },
  {
   "cell_type": "code",
   "execution_count": 6,
   "metadata": {},
   "outputs": [
    {
     "name": "stdout",
     "output_type": "stream",
     "text": [
      "(77486, 26, 16)\n",
      "(9710, 26, 16)\n",
      "(9660, 26, 16)\n"
     ]
    }
   ],
   "source": [
    "# Look at tensor dimensions\n",
    "print(x_train.shape)\n",
    "print(x_val.shape)\n",
    "print(x_test.shape)"
   ]
  },
  {
   "cell_type": "code",
   "execution_count": 7,
   "metadata": {},
   "outputs": [
    {
     "name": "stdout",
     "output_type": "stream",
     "text": [
      "[33. 10.  8. ... 10. 18. 29.]\n"
     ]
    }
   ],
   "source": [
    "# Peek at labels\n",
    "print(y_val)"
   ]
  },
  {
   "cell_type": "code",
   "execution_count": 8,
   "metadata": {},
   "outputs": [
    {
     "name": "stdout",
     "output_type": "stream",
     "text": [
      "(77486, 26, 16)\n"
     ]
    }
   ],
   "source": [
    "# View the dimensions of our input data\n",
    "print(x_train.shape)"
   ]
  },
  {
   "cell_type": "code",
   "execution_count": 9,
   "metadata": {},
   "outputs": [
    {
     "name": "stdout",
     "output_type": "stream",
     "text": [
      "(77486, 26, 16, 1)\n",
      "(9710, 26, 16, 1)\n",
      "(9660, 26, 16, 1)\n"
     ]
    }
   ],
   "source": [
    "# CNN for TF expects (batch, height, width, channels)\n",
    "# So we reshape the input tensors with a \"color\" channel of 1\n",
    "x_train = x_train.reshape(x_train.shape[0], \n",
    "                          x_train.shape[1], \n",
    "                          x_train.shape[2], \n",
    "                          1)\n",
    "x_val = x_val.reshape(x_val.shape[0], \n",
    "                      x_val.shape[1], \n",
    "                      x_val.shape[2], \n",
    "                      1)\n",
    "x_test = x_test.reshape(x_test.shape[0], \n",
    "                        x_test.shape[1], \n",
    "                        x_test.shape[2], \n",
    "                        1)\n",
    "print(x_train.shape)\n",
    "print(x_val.shape)\n",
    "print(x_test.shape)"
   ]
  },
  {
   "cell_type": "code",
   "execution_count": 10,
   "metadata": {},
   "outputs": [
    {
     "name": "stdout",
     "output_type": "stream",
     "text": [
      "(26, 16, 1)\n"
     ]
    }
   ],
   "source": [
    "# Input shape for CNN is size of MFCC of 1 sample\n",
    "sample_shape = x_test.shape[1:]\n",
    "print(sample_shape)"
   ]
  },
  {
   "cell_type": "code",
   "execution_count": 24,
   "metadata": {},
   "outputs": [],
   "source": [
    "# Build model\n",
    "model = models.Sequential()\n",
    "model.add(layers.Conv2D(32, \n",
    "                        (2, 2), \n",
    "                        activation='relu',\n",
    "                        input_shape=sample_shape))\n",
    "\n",
    "model.add(layers.Conv2D(32, (2, 2), activation='relu', padding=\"SAME\"))\n",
    "\n",
    "model.add(layers.Conv2D(64, (2, 2), activation='relu', padding=\"SAME\", kernel_regularizer=tf.keras.regularizers.l1(l = 0.0001)))\n",
    "\n",
    "model.add(layers.Conv2D(128, (2, 2), activation='relu', padding=\"SAME\", kernel_regularizer=tf.keras.regularizers.l1(l = 0.0001)))\n",
    "model.add(layers.MaxPooling2D(pool_size=(2, 2)))\n",
    "\n",
    "# Classifier\n",
    "model.add(layers.Flatten())\n",
    "model.add(layers.Dense(512, activation='relu'))\n",
    "model.add(layers.Dropout(0.5))\n",
    "model.add(layers.Dense(128, activation='relu'))\n",
    "model.add(layers.Dropout(0.5))\n",
    "model.add(layers.Dense(len(all_targets), activation='softmax'))"
   ]
  },
  {
   "cell_type": "code",
   "execution_count": 25,
   "metadata": {},
   "outputs": [
    {
     "name": "stdout",
     "output_type": "stream",
     "text": [
      "Model: \"sequential_3\"\n",
      "_________________________________________________________________\n",
      " Layer (type)                Output Shape              Param #   \n",
      "=================================================================\n",
      " conv2d_10 (Conv2D)          (None, 25, 15, 32)        160       \n",
      "                                                                 \n",
      " conv2d_11 (Conv2D)          (None, 25, 15, 32)        4128      \n",
      "                                                                 \n",
      " conv2d_12 (Conv2D)          (None, 25, 15, 64)        8256      \n",
      "                                                                 \n",
      " conv2d_13 (Conv2D)          (None, 25, 15, 128)       32896     \n",
      "                                                                 \n",
      " max_pooling2d_5 (MaxPooling  (None, 12, 7, 128)       0         \n",
      " 2D)                                                             \n",
      "                                                                 \n",
      " flatten_3 (Flatten)         (None, 10752)             0         \n",
      "                                                                 \n",
      " dense_9 (Dense)             (None, 512)               5505536   \n",
      "                                                                 \n",
      " dropout_6 (Dropout)         (None, 512)               0         \n",
      "                                                                 \n",
      " dense_10 (Dense)            (None, 128)               65664     \n",
      "                                                                 \n",
      " dropout_7 (Dropout)         (None, 128)               0         \n",
      "                                                                 \n",
      " dense_11 (Dense)            (None, 35)                4515      \n",
      "                                                                 \n",
      "=================================================================\n",
      "Total params: 5,621,155\n",
      "Trainable params: 5,621,155\n",
      "Non-trainable params: 0\n",
      "_________________________________________________________________\n"
     ]
    }
   ],
   "source": [
    "# Display model\n",
    "model.summary()"
   ]
  },
  {
   "cell_type": "code",
   "execution_count": 26,
   "metadata": {},
   "outputs": [],
   "source": [
    "# Add training parameters to model\n",
    "model.compile(loss='sparse_categorical_crossentropy', \n",
    "              optimizer='adam', \n",
    "              metrics=['acc'])"
   ]
  },
  {
   "cell_type": "code",
   "execution_count": 27,
   "metadata": {},
   "outputs": [
    {
     "name": "stdout",
     "output_type": "stream",
     "text": [
      "Epoch 1/10\n",
      "775/775 [==============================] - 65s 82ms/step - loss: 2.3685 - acc: 0.3521 - val_loss: 1.1171 - val_acc: 0.7042\n",
      "Epoch 2/10\n",
      "775/775 [==============================] - 63s 81ms/step - loss: 1.2680 - acc: 0.6544 - val_loss: 0.7866 - val_acc: 0.7944\n",
      "Epoch 3/10\n",
      "775/775 [==============================] - 62s 80ms/step - loss: 0.9759 - acc: 0.7415 - val_loss: 0.7107 - val_acc: 0.8160\n",
      "Epoch 4/10\n",
      "775/775 [==============================] - 63s 81ms/step - loss: 0.8240 - acc: 0.7865 - val_loss: 0.6618 - val_acc: 0.8337\n",
      "Epoch 5/10\n",
      "775/775 [==============================] - 62s 81ms/step - loss: 0.7174 - acc: 0.8171 - val_loss: 0.6113 - val_acc: 0.8516\n",
      "Epoch 6/10\n",
      "775/775 [==============================] - 63s 81ms/step - loss: 0.6423 - acc: 0.8380 - val_loss: 0.5885 - val_acc: 0.8597\n",
      "Epoch 7/10\n",
      "775/775 [==============================] - 62s 80ms/step - loss: 0.5879 - acc: 0.8558 - val_loss: 0.5836 - val_acc: 0.8622\n",
      "Epoch 8/10\n",
      "775/775 [==============================] - 63s 81ms/step - loss: 0.5374 - acc: 0.8708 - val_loss: 0.5565 - val_acc: 0.8703\n",
      "Epoch 9/10\n",
      "775/775 [==============================] - 63s 81ms/step - loss: 0.4984 - acc: 0.8824 - val_loss: 0.5707 - val_acc: 0.8690\n",
      "Epoch 10/10\n",
      "775/775 [==============================] - 64s 82ms/step - loss: 0.4663 - acc: 0.8913 - val_loss: 0.5656 - val_acc: 0.8770\n"
     ]
    }
   ],
   "source": [
    "# Train\n",
    "history = model.fit(x_train, \n",
    "                    y_train, \n",
    "                    epochs=10, \n",
    "                    batch_size=100, \n",
    "                    validation_data=(x_val, y_val))"
   ]
  },
  {
   "cell_type": "code",
   "execution_count": 28,
   "metadata": {},
   "outputs": [
    {
     "data": {
      "image/png": "[encoded data removed]",
      "text/plain": [
       "<Figure size 640x480 with 1 Axes>"
      ]
     },
     "metadata": {},
     "output_type": "display_data"
    },
    {
     "data": {
      "image/png": "[encoded data removed]",
      "text/plain": [
       "<Figure size 640x480 with 1 Axes>"
      ]
     },
     "metadata": {},
     "output_type": "display_data"
    }
   ],
   "source": [
    "# Plot results\n",
    "import matplotlib.pyplot as plt\n",
    "\n",
    "acc = history.history['acc']\n",
    "val_acc = history.history['val_acc']\n",
    "loss = history.history['loss']\n",
    "val_loss = history.history['val_loss']\n",
    "\n",
    "epochs = range(1, len(acc) + 1)\n",
    "\n",
    "plt.plot(epochs, acc, 'bo', label='Training acc')\n",
    "plt.plot(epochs, val_acc, 'b', label='Validation acc')\n",
    "plt.title('Training and validation accuracy')\n",
    "plt.legend()\n",
    "\n",
    "plt.figure()\n",
    "\n",
    "plt.plot(epochs, loss, 'bo', label='Training loss')\n",
    "plt.plot(epochs, val_loss, 'b', label='Validation loss')\n",
    "plt.title('Training and validation loss')\n",
    "plt.legend()\n",
    "\n",
    "plt.show()"
   ]
  },
  {
   "cell_type": "code",
   "execution_count": 29,
   "metadata": {},
   "outputs": [],
   "source": [
    "# Save the model as a file\n",
    "models.save_model(model, model_filename)"
   ]
  },
  {
   "cell_type": "code",
   "execution_count": 31,
   "metadata": {},
   "outputs": [
    {
     "name": "stdout",
     "output_type": "stream",
     "text": [
      "1/1 [==============================] - 0s 199ms/step\n",
      "Answer: 22.0  Prediction: 22\n",
      "1/1 [==============================] - 0s 24ms/step\n",
      "Answer: 3.0  Prediction: 3\n",
      "1/1 [==============================] - 0s 38ms/step\n",
      "Answer: 17.0  Prediction: 17\n",
      "1/1 [==============================] - 0s 32ms/step\n",
      "Answer: 19.0  Prediction: 19\n",
      "1/1 [==============================] - 0s 30ms/step\n",
      "Answer: 34.0  Prediction: 34\n",
      "1/1 [==============================] - 0s 32ms/step\n",
      "Answer: 1.0  Prediction: 17\n",
      "1/1 [==============================] - 0s 39ms/step\n",
      "Answer: 11.0  Prediction: 18\n",
      "1/1 [==============================] - 0s 31ms/step\n",
      "Answer: 4.0  Prediction: 4\n",
      "1/1 [==============================] - 0s 39ms/step\n",
      "Answer: 19.0  Prediction: 19\n",
      "1/1 [==============================] - 0s 36ms/step\n",
      "Answer: 18.0  Prediction: 18\n"
     ]
    }
   ],
   "source": [
    "# TEST: Load model and run it against test set\n",
    "saved_model = models.load_model(model_filename)\n",
    "for i in range(90, 100):\n",
    "    print('Answer:', y_test[-i], ' Prediction:', int(tf.math.argmax(saved_model.predict(np.expand_dims(x_test[-i], 0))[0])))"
   ]
  },
  {
   "cell_type": "code",
   "execution_count": 32,
   "metadata": {},
   "outputs": [
    {
     "name": "stdout",
     "output_type": "stream",
     "text": [
      "302/302 [==============================] - 4s 11ms/step - loss: 0.5801 - acc: 0.8696\n"
     ]
    },
    {
     "data": {
      "text/plain": [
       "[0.5801172256469727, 0.8695651888847351]"
      ]
     },
     "execution_count": 32,
     "metadata": {},
     "output_type": "execute_result"
    }
   ],
   "source": [
    "# Evaluate model with test set\n",
    "saved_model.evaluate(x=x_test, y=y_test)"
   ]
  },
  {
   "cell_type": "code",
   "execution_count": null,
   "metadata": {},
   "outputs": [],
   "source": []
  }
 ],
 "metadata": {
  "kernelspec": {
   "display_name": "Python 3 (ipykernel)",
   "language": "python",
   "name": "python3"
  },
  "language_info": {
   "codemirror_mode": {
    "name": "ipython",
    "version": 3
   },
   "file_extension": ".py",
   "mimetype": "text/x-python",
   "name": "python",
   "nbconvert_exporter": "python",
   "pygments_lexer": "ipython3",
   "version": "3.10.13"
  }
 },
 "nbformat": 4,
 "nbformat_minor": 4
}
